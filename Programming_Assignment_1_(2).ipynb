{
  "cells": [
    {
      "cell_type": "markdown",
      "metadata": {
        "id": "view-in-github",
        "colab_type": "text"
      },
      "source": [
        "<a href=\"https://colab.research.google.com/github/Srinimarella/Python-Workshop/blob/main/Programming_Assignment_1_(2).ipynb\" target=\"_parent\"><img src=\"https://colab.research.google.com/assets/colab-badge.svg\" alt=\"Open In Colab\"/></a>"
      ]
    },
    {
      "cell_type": "markdown",
      "id": "637b47a5",
      "metadata": {
        "id": "637b47a5"
      },
      "source": [
        "## Programming Assignment_1\n",
        "-------------"
      ]
    },
    {
      "cell_type": "markdown",
      "id": "0c647dbe",
      "metadata": {
        "id": "0c647dbe"
      },
      "source": [
        "### 1. Write a Python program to print \"Hello Python\"?"
      ]
    },
    {
      "cell_type": "code",
      "source": [
        "print('Hello Python')"
      ],
      "metadata": {
        "id": "4lwXOtAorecV",
        "outputId": "9276779e-71e4-42fa-c569-483cd214f542",
        "colab": {
          "base_uri": "https://localhost:8080/"
        }
      },
      "id": "4lwXOtAorecV",
      "execution_count": 2,
      "outputs": [
        {
          "output_type": "stream",
          "name": "stdout",
          "text": [
            "Hello Python\n"
          ]
        }
      ]
    },
    {
      "cell_type": "markdown",
      "id": "fc18a6cd",
      "metadata": {
        "id": "fc18a6cd"
      },
      "source": [
        "### 2. Write a Python program to do arithmetical operations addition and division.?\n"
      ]
    },
    {
      "cell_type": "code",
      "source": [
        "a=2\n",
        "b=3\n",
        "print('Addition of a & b =',a+b)\n",
        "print('Division of a & b =',a/b)\n",
        "print('Modulo of a & b =',a%b)"
      ],
      "metadata": {
        "id": "3hLz5eq7rqfJ",
        "outputId": "a02a3d17-2fbe-417b-a9f9-c4359d904afe",
        "colab": {
          "base_uri": "https://localhost:8080/"
        }
      },
      "id": "3hLz5eq7rqfJ",
      "execution_count": 7,
      "outputs": [
        {
          "output_type": "stream",
          "name": "stdout",
          "text": [
            "Addition of a & b = 5\n",
            "Division of a & b = 0.6666666666666666\n",
            "Modulo of a & b = 2\n"
          ]
        }
      ]
    },
    {
      "cell_type": "markdown",
      "id": "af6e2429",
      "metadata": {
        "id": "af6e2429"
      },
      "source": [
        "### 3. Write a Python program to find the area of a triangle?\n"
      ]
    },
    {
      "cell_type": "code",
      "source": [
        "Base = 2\n",
        "Height = 3\n",
        "Area = Base * Height\n",
        "Triangle = Area / 2\n",
        "print(Triangle)\n"
      ],
      "metadata": {
        "id": "HLRQiF3GsKrV",
        "outputId": "dbc01a42-788f-40b1-f40f-94b9126dc4e8",
        "colab": {
          "base_uri": "https://localhost:8080/"
        }
      },
      "id": "HLRQiF3GsKrV",
      "execution_count": 11,
      "outputs": [
        {
          "output_type": "stream",
          "name": "stdout",
          "text": [
            "3.0\n"
          ]
        }
      ]
    },
    {
      "cell_type": "markdown",
      "id": "b8140061",
      "metadata": {
        "id": "b8140061"
      },
      "source": [
        "### 4. Write a Python program to swap two variables?\n"
      ]
    },
    {
      "cell_type": "code",
      "source": [
        "a=2\n",
        "b=3\n",
        "\n",
        "temp =b\n",
        "b=a\n",
        "a=temp\n",
        "print(a)\n",
        "print(b)"
      ],
      "metadata": {
        "id": "STLBkd2otmDe",
        "outputId": "7aee106b-9c01-478e-b550-072fcba05fd2",
        "colab": {
          "base_uri": "https://localhost:8080/"
        }
      },
      "id": "STLBkd2otmDe",
      "execution_count": 12,
      "outputs": [
        {
          "output_type": "stream",
          "name": "stdout",
          "text": [
            "3\n",
            "2\n"
          ]
        }
      ]
    },
    {
      "cell_type": "markdown",
      "id": "3f8054c1",
      "metadata": {
        "id": "3f8054c1"
      },
      "source": [
        "### 5. Write a Python program to generate a random number?\n"
      ]
    },
    {
      "cell_type": "code",
      "source": [
        "import random\n",
        "num = random.randint(10,30)\n",
        "print(num)"
      ],
      "metadata": {
        "id": "o1YNQDKgt53D",
        "outputId": "7b260140-f30a-40b0-ce24-821ee85e3875",
        "colab": {
          "base_uri": "https://localhost:8080/"
        }
      },
      "id": "o1YNQDKgt53D",
      "execution_count": 14,
      "outputs": [
        {
          "output_type": "stream",
          "name": "stdout",
          "text": [
            "19\n"
          ]
        }
      ]
    }
  ],
  "metadata": {
    "kernelspec": {
      "display_name": "Python 3 (ipykernel)",
      "language": "python",
      "name": "python3"
    },
    "language_info": {
      "codemirror_mode": {
        "name": "ipython",
        "version": 3
      },
      "file_extension": ".py",
      "mimetype": "text/x-python",
      "name": "python",
      "nbconvert_exporter": "python",
      "pygments_lexer": "ipython3",
      "version": "3.9.12"
    },
    "colab": {
      "provenance": [],
      "include_colab_link": true
    }
  },
  "nbformat": 4,
  "nbformat_minor": 5
}